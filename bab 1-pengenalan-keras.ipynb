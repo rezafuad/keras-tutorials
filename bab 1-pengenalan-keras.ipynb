{
 "cells": [
  {
   "cell_type": "markdown",
   "metadata": {},
   "source": [
    "# 1. Pustaka Keras \n",
    "\n",
    "Pada bab ini akan dibahas secara detil tentang Pustaka Keras yang merupakan pustaka untuk aplikasi deep learning. \n",
    "Pustaka Keras merupakan salah satu pustaka deep learning yang sedang menanjak popularitasnya karena cukup sederhana dan mudah digunakan jika dibandingkan dengan pustaka deep learning yang lain.\n",
    "Berbeda dengan deep leraning framework, Keras hanya berupa pustaka bukan framework, sehingga Keras tidak menyediakan layanan eksekusi aplikasi deep learning secara langsung tetapi dengan menggunakan tambahan framework.\n",
    "Deep learning framework yang digunakan sebagai backend dari pustaka Keras adalah Theano, TensorFlow, dan Microsoft CNTK."
   ]
  },
  {
   "cell_type": "markdown",
   "metadata": {},
   "source": [
    "## 1.1 Sejarah \n",
    "\n",
    "Pustaka Keras pada awalnya dikembangkan oleh François Chollet pada pertengahan tahun 2015. \n",
    "François Chollet merupakan salah satu pegawai Google dan pustaka Keras merupakan bagian dari proyek ONEIROS (Open-ended Neuro-Electronic Intelligent Robot Operating System).\n",
    "Keras (κέρας) diartikan sebagai tnaduk dalam bahasa Yunani (disadur dari https://github.com/fchollet/keras#why-this-name-keras).\n",
    "Logo dari pustaka Keras dapat dilihat pada Gambar 1.1. \n",
    "Huruf \"K\" pada logo pustaka Keras sangat sederhana dan mengambarkan bagaimana mudahnya penggunaan pustaka Keras untuk pengembangan aplikasi deep learning."
   ]
  },
  {
   "cell_type": "markdown",
   "metadata": {},
   "source": [
    "<img src=\"https://upload.wikimedia.org/wikipedia/commons/c/c9/Keras_Logo.jpg\" />\n",
    "<p style=\"text-align:center\">Gambar 1.1. Logo dari pustaka Keras (disadur dari alamat https://en.wikipedia.org/wiki/Keras).</p>"
   ]
  },
  {
   "cell_type": "markdown",
   "metadata": {},
   "source": [
    "Pustaka Keras tidak berdiri sendiri sebagai pustaka deep learning tetapi menggunakan backend komputasi deep learning framework tambahan sebagai pustaka komputasi. \n",
    "Keras mendukung tiga deep learning framework sebagai backend komputas deep learning, yaitu TensorFlow, CNTK, dan Theano.\n",
    "Beberapa keuntungan dengan menggunakan pustaka Keras adalah\n",
    "<ul style=\"margin-top:0;margin-bottom:0\">\n",
    "    <li>Mudah dalam implementasi dan prototyping aplikasi deep learning (melalui 3 prinsip, user friendliness, modularity, dan extensibility).</li>\n",
    "    <li>Mendukung convolutional neural network, recurrent network, dan kombinasi dari keduanya.</li>\n",
    "    <li>Berjalan <i>seamlessly</i> pada CPU dan GPU.</li>\n",
    "</ul>"
   ]
  },
  {
   "cell_type": "markdown",
   "metadata": {},
   "source": [
    "Ketiga prinsip yang digunakan sebagai landasan pengembangan pustaka Keras dapat dijelaskan sebagai berikut\n",
    "<ul style=\"margin-top:0\">\n",
    "    <li><b>User friendliness</b>. Pustaka Keras merupakan API yang dirancang untuk manusia, bukan mesin. Pustaka Keras mengikuti prinsip untuk mengurangi beban kognitif dari pengguna dengan merancang API secara sederhana dan konsisten. Dengan prinsip tersebut, langkah-langkah yang diperlukan untuk mengimplementasikan aplikasi deep learning dapat dikurangi.</li>\n",
    "    <li><b>Modularity</b>. Pustaka Keras mengorganisasikan model sebagai urutan graph yang independen, dengan modul yang dapat dikonfigurasi secara detil. Beberapa modul yang didukung oleh pustaka Keras, yaitu neural layers, fungsi cost, beberapa metode optimisasi, skema initialisasi bobot, fungsi aktifasi, dan skema regularisasi.</li>\n",
    "    <li><b>More extensibility</b>. Pustaka Keras mendukung pengembangan modul baru dengan interface yang sederhana dan mudah dipahami sehingga pustaka Keras juga sangat cocok digunakan untuk pengembangan riset lebih lanjut dibidang deep learning.</li>\n",
    "</ul>\n",
    "\n",
    "Pustaka Keras hanya dapat berjalan dengan menggunakan bahasa pemrograman Python. \n",
    "Untuk Anda yang belum familiar dengan bahasa pemrograman Python, disarankan untuk mencari tutorial bahasa pemrograman Python terlebih dahulu dan jangan risau karena bahasa pemrograman Python merupakan salah satu bahasa pemrograman yang paling mudah dipelajari dibandingkan dengan bahasa pemrograman yang lain."
   ]
  },
  {
   "cell_type": "markdown",
   "metadata": {},
   "source": [
    "Pada tahun 2017, tim pengembangan dari Google TensorFlow memutuskan untuk mendukung pustaka Keras dan ditanamkan pada TensorFlow framework sehingga akan mengurangi bugs pada pustaka Keras jika menggunakan backend TensorFlow.\n",
    "Pada pengembangan berikutnyam Chollet mengatakan bahwa pustaka Keras hanya merupakan interface yang menyederhanakan implementasi aplikasi deep learning sehingga pengguna tidak perlu mempelajari terlalu banyak deep learning framework.\n",
    "Kabar terakhir pada saat buku ini ditulis, tim dari Microsoft CNTK framework juga akan mendukung penuh pustaka Keras."
   ]
  },
  {
   "cell_type": "markdown",
   "metadata": {},
   "source": [
    "## 1.2 Instalasi\n",
    "\n",
    "Pada sub bab ini, akan dijelaskan langkah-langkah proses instalasi pustaka Keras dengan menggunakan backend TensorFlow deep learning framework. \n",
    "Mengapa menggunakan backend TensorFlow ? Karena TensorFlow sudah mendukung Keras secara utuh sehingga akan mengurangi bugs yang mungkin muncul pada pustaka Keras.\n",
    "\n",
    "### 1.2.1 Linux\n",
    "\n",
    "Untuk Anda yang menggunakan sistem operasi Linux, Anda dapat langsung melakukan instalasi paket-paket python yang dibutuhkan dengan perintah berikut"
   ]
  },
  {
   "cell_type": "markdown",
   "metadata": {},
   "source": [
    "<code>pip install --upgrade tensorflow atau pip install --upgrade tensorflow-gpu</code><br/>\n",
    "<code>pip install --upgrade keras</code>"
   ]
  },
  {
   "cell_type": "markdown",
   "metadata": {},
   "source": [
    "Paket tensorflow digunakan jika Anda tidak menggunakan GPU sebagai media komputasi dan tensorflow-gpu jika Anda ingin menggunakan GPU sebagai media komputasi.\n",
    "Dengan mengeksekusi perintah tersebut, paket-paket tambahan yang dibutuhkan akan ikut diinstall secara otomatis.\n",
    "\n",
    "Jika paket-paket telah terinstall, Anda dapat melakukan testing dengan mengetikkan perintah berikut pada python comaand line."
   ]
  },
  {
   "cell_type": "code",
   "execution_count": 1,
   "metadata": {},
   "outputs": [
    {
     "name": "stderr",
     "output_type": "stream",
     "text": [
      "Using TensorFlow backend.\n"
     ]
    }
   ],
   "source": [
    "import keras"
   ]
  },
  {
   "cell_type": "markdown",
   "metadata": {},
   "source": [
    "### 1.2.2 Windows\n",
    "\n",
    "Untuk Anda yang menggunakan sistem operasi Windows, disarankan untuk menggunakan Anaconda sebagai python framework.\n",
    "Mengapa Anaconda? \n",
    "Bagi Anda yang menggunakan Linux, saya sarankan Anda tidak menggunakan Anaconda tetapi langsung melakukan instalasi paket-paket python yang dibutuhkan. \n",
    "Tetapi, pada sistem operasi windows, proses instalasi manual cukup membingungkan sehingga salah satu solusinya adalah dengan menggunakan Anaconda.\n",
    "Salah satu keunggulan Anaconda adalah kita dapat membuat beberapa lingkungan virtual yang saling independen sehingga tidak mempengaruhi sistem windows itu sendiri. Paket-paket akan di install pada lingkungan virtual Anaconda.\n",
    "Berikut merupakan cara instalasi pustaka Keras dengan backend TensorFlow pada sistem operasi windows,"
   ]
  },
  {
   "cell_type": "markdown",
   "metadata": {},
   "source": [
    "#### Download Dan Instalasi Anaconda \n",
    "\n",
    "Mengunduh file instalasi Anaconda. Dalam tulisan ini, Anaconda yang digunakan adalah Anaconda versi 5.0.1.\n",
    "File dapat diunduh pada alamat http://www.anaconda.com/download.\n",
    "Jangan lupa untuk memilih Anaconda 64-bit, karena TensorFlow hanya mendukung sistem operasi windows 64-bit.\n",
    "Jika Anda masih menggunakan windows 32-bit, maka disarankan untuk mngupgrade menjadi windows 64-bit atau menggunakan sistem operasi Linux sebagai alternatif.\n",
    "Proses instalasi Anaconda juga cukup mudah dan sama seperti instalasi aplikasi-aplikasi yang lain.\n",
    "\n",
    "<img src=\"https://raw.githubusercontent.com/rezafuad/installkerasbahasa/master/anaconda-download.png\" width=\"70%\" />\n",
    "<p style=\"text-align:center\">Gambar 1.2. Proses mengunduh file instalasi Anaconda pada alamat http://www.anaconda.com/download. Pilih Anaconda 64-bit dengan dukungan Python 3 secara default.</p>\n",
    "\n",
    "<img src=\"https://raw.githubusercontent.com/rezafuad/installkerasbahasa/master/anaconda-install.png\" />\n",
    "<p style=\"text-align:center\">Gambar 1.3. Proses instalasi Anaconda 64-bit versi 5.0.1. Silahkan sesuaikan folder instalasi, karena jika Anda menggunakan SSD storage pada drive utama, disarankan untuk melakukan instalasi di drive lain dengan storage yang cukup besar.</p>"
   ]
  },
  {
   "cell_type": "markdown",
   "metadata": {},
   "source": [
    "Gambar 1.2 dan 1.3 adalah screen shot proses mengunduh dan instalasi Anaconda 64-bit versi 5.0.1.\n",
    "Setelah semua proses instalasi selesai, langkah terakhir adalah melakukan update Anaconda dengan mengeksekusi perintah berikut pada Anaconda terminal."
   ]
  },
  {
   "cell_type": "markdown",
   "metadata": {},
   "source": [
    " <code>conda update conda</code><br/>\n",
    " <code>conda update -all</code>"
   ]
  },
  {
   "cell_type": "markdown",
   "metadata": {},
   "source": [
    "Anaconda terminal dapat diakses dari menu Anaconda->Anaconda Terminal."
   ]
  },
  {
   "cell_type": "markdown",
   "metadata": {},
   "source": [
    "#### Install CUDA dan CuDNN\n",
    "\n",
    "Jika Anda ingin menggunakan GPU sebagai media komputasi pada sistem operasi Windows, maka Anda perlu melakukan instalasi NVIDIA CUDA Toolkit dan pustaka CuDNN (CUDA Deep Neural Network).\n",
    "Saat ini TensorFlow hanya mensupport NVIDIA CUDA untuk GPU computing library.\n",
    "NVIDIA CUDA Toolkit dapat diunduh pada alamat http://developer.nvidia.com dengan catatan bahwa Anda harus membuat account NVIDIA untuk bisa mengunduh CUDA dan CuDNN.\n",
    "Untuk lebih jelas silahkan melihat pada halaman TensorFlow berikut https://www.tensorflow.org/install/install_windows"
   ]
  },
  {
   "cell_type": "markdown",
   "metadata": {},
   "source": [
    "#### Konfigurasi Lingkungan Virtual pad Anaconda\n",
    "\n",
    "Langkah selanjutnya adalah membuat lingkungan virtual pada Anaconda dan menginstall semua paket yang dibutuhkan. Buka Anaconda command prompt dengan menjalanakan shortcut menu yang ada di menu Anaconda->Anaconda Command Prompt, lalu jalankan perintah berikut\n",
    "\n",
    "<code>conda create -n [nama] python=3.6 numpy scipy matplotlib spyder</code>\n",
    "    \n",
    "Ganti <code>[nama]</code> dengan nama lingkungan virtual yang diinginkan. Contoh jika [nama] yang dipilih adalah keras-tensorflow maka perintahnya menjadi\n",
    "\n",
    "<code>conda create -n keras-tensorflow python=3.6 numpy scipy matplotlib spyder</code>\n",
    "\n",
    "Paket <code>numpy</code>,<code>scipy</code>,<code>matplotlib</code>,<code>spyder</code> adalah paket-paket tambahan yang diinstall bersama dengan dibuatnya lingkungan virtual. \n",
    "Versi python yang digunakan dapat diganti ke python 2.7, tetapi pada buku ini akan digunakan python versi 3.6.\n",
    "Untuk versi Anaconda yang terbaru, terdapat Anaconda Navigator yang dapat pula digunakan untuk membuat lingkungan virtual pada Anaconda secara GUI (Graphical User Interface)."
   ]
  },
  {
   "cell_type": "markdown",
   "metadata": {},
   "source": [
    "#### Install TensorFlow dan Keras\n",
    "\n",
    "Untuk melakukan instalasi TensorFlow dan Keras, buka Anaconda terminak dan jalankan perintah berikut\n",
    "\n",
    "Aktifkan lingkungan virtual\n",
    "\n",
    "<code>activate [nama]</code><br/>\n",
    "\n",
    "Install Tensorflow dan Keras\n",
    "\n",
    "<code>pip install tensorflow</code> atau <code>pip install tensorflow-gpu</code><br/>\n",
    "<code>pip install keras</code><br/>\n",
    "\n",
    "Konfirmasi hasil instalasi dengan perintah berikut pada ipython comaand line (jalankan dulu ipython):"
   ]
  },
  {
   "cell_type": "code",
   "execution_count": 1,
   "metadata": {},
   "outputs": [
    {
     "name": "stderr",
     "output_type": "stream",
     "text": [
      "Using TensorFlow backend.\n"
     ]
    }
   ],
   "source": [
    "import keras"
   ]
  },
  {
   "cell_type": "markdown",
   "metadata": {},
   "source": [
    "## 1.3 Dataset\n",
    "\n",
    "Selain menyediakan interface untuk pengembangan aplikasi deep learning, pustaka Keras juga menyediakan kemudahan akses ke dataset yang banyak digunakan sebagai studi kasus. \n",
    "Dataset yang disediakan oleh pustaka Keras adalah boston house pricing dataset, CIFAR dataset (CIFAR-10 dan CIFAR-100), MNIST dataset, fashion MNIST dataset, IMDB movie review sentiment dataset, dan reuters news topic dataset."
   ]
  },
  {
   "cell_type": "markdown",
   "metadata": {},
   "source": [
    "### 1.3.1 Boston House Pricing Regression Dataset \n",
    "\n",
    "Boston house pricing regression dataset merupakan satu-satu permasalahan regresi yang didukung oleh pustaka Keras. \n",
    "Apakah ada permasalahan regresi yang lain? \n",
    "Banyak, tetapi Anda harus mengatur sendiri data-data yang akan digunakan dalam proses pelatihan maupun pengujian.\n",
    "Dataset tersebut terdiri dari 506 data dengan masing-masing data mempunyai 13 dimensi masukan dan 1 dimensi keluaran.\n",
    "Data diambil dari CMU university dan berasal dari survei tentang harga rumah di sekitar wilayah Boston, USA, pada akhir tahun 1970-an.\n",
    "Untuk mendapatkan dataset tersebut, Anda dapat menggunakan perintah berikut pada ipython command line"
   ]
  },
  {
   "cell_type": "code",
   "execution_count": 2,
   "metadata": {},
   "outputs": [
    {
     "name": "stdout",
     "output_type": "stream",
     "text": [
      "Downloading data from https://s3.amazonaws.com/keras-datasets/boston_housing.npz\n",
      "57344/57026 [==============================] - 0s 6us/step\n"
     ]
    }
   ],
   "source": [
    "boston = keras.datasets.boston_housing.load_data()"
   ]
  },
  {
   "cell_type": "markdown",
   "metadata": {},
   "source": [
    "Jika data belum tersedia secara offline, maka pustaka Keras akan otomatis mengunduh data yang kita inginkan.\n",
    "Keluaran dari fungsi tersebut adalah 2 buah python tuple (untuk pelatihan dan pengujian dengan proposi 80%/20% secara default) yang masing-masing berisi dua buah python list.\n",
    "Atau jika Anda ingin langsung memisahkan data pelatihan dan data uji, maka Anda dapat menggunakan perintah berikut"
   ]
  },
  {
   "cell_type": "code",
   "execution_count": 11,
   "metadata": {},
   "outputs": [],
   "source": [
    "(bx_train, by_train), (bx_test, by_test) = keras.datasets.boston_housing.load_data()"
   ]
  },
  {
   "cell_type": "markdown",
   "metadata": {},
   "source": [
    "Variabel <code>bx_train</code> akan berisi 404 baris data dengan masing-masing tediri dari 13 kolom, yang merepresentasikan data masukan dengan 13 fitur.\n",
    "Variable <code>by_train</code> akan berisi harga rumah sesuai dengan 13 fitur yang disurvei.\n",
    "Sama seperti <code>bx_train</code> dan <code>by_train</code>, variabel <code>bx_test</code> dan <code>by_test</code> juga mempunyai fungsi yang sama, hanya saja digunakan untuk merepresentasikan data uji."
   ]
  },
  {
   "cell_type": "markdown",
   "metadata": {},
   "source": [
    "### 1.3.2 CIFAR Dataset\n",
    "\n",
    "CIFAR dataset merupakan salah satu dataset yang sangat terkenal pada bidang visi komputer dan klasifikasi citra. CIFAR dataset terdiri dari dua buah dataset berbeda, yaitu CIFAR-10 dan CIFAR-100. \n",
    "Seluruh citra pada CIFAR dataset merupakan citra dengan resolusi kecil, yaitu 32x32 dan merupakan subset dari dataset yang lebih besar yaitu \"80 million tiny images dataset\".\n",
    "CIFAR-10 merupakan dataset dengan 10 citra kategori yang berbeda, sedangkan CIFAR-100 merupakan dataset dengan 100 citra kategori yang berbeda."
   ]
  },
  {
   "cell_type": "code",
   "execution_count": 18,
   "metadata": {},
   "outputs": [
    {
     "name": "stdout",
     "output_type": "stream",
     "text": [
      "Downloading data from https://www.cs.toronto.edu/~kriz/cifar-10-python.tar.gz\n",
      "170500096/170498071 [==============================] - 79s 0us/step\n"
     ]
    }
   ],
   "source": [
    "cifar10 = keras.datasets.cifar10.load_data()"
   ]
  },
  {
   "cell_type": "markdown",
   "metadata": {},
   "source": [
    "Format keluaran dari fungsi <code>keras.datasets.cifar10.load_data()</code> sama dengan pada Boston house pricing dataset. Perbedaannya adalah bahwa label pada dataset CIFAR merupakan bilangan bulat yang merepresentasikan nomor kelas, bukan bilangan ril seperti pada Boston House Pricing dataset.\n",
    "Untuk memuat CIFAR-100 dataset, Anda dapat menggunakan kode seperti diatas dengan mengganti namespace cifar10 dengan cifar100 sehingga menjadi <code>keras.datasets.cifar100.load_data()</code>.\n",
    "Berbeda dengan Boston House Pricing dataset, CIFAR dataset mempunyai pemisahan antara data pelatihan dengan data uji dengan jumlah, 50,0000 data untuk pelatihan dan 10,000 data untuk data uji.\n",
    "Untuk menampilkan 10 citra pertama pada dataset CIFAR-10, Anda dapat menggunakan kode program dibawah ini"
   ]
  },
  {
   "cell_type": "code",
   "execution_count": 52,
   "metadata": {
    "scrolled": true
   },
   "outputs": [
    {
     "data": {
      "image/png": "[encoded data removed]",
      "text/plain": [
       "<matplotlib.figure.Figure at 0x2adcda9f9b0>"
      ]
     },
     "metadata": {},
     "output_type": "display_data"
    }
   ],
   "source": [
    "from matplotlib import pyplot as plt\n",
    "\n",
    "f, k = plt.subplots(1, 10, sharey=True,figsize=(18,2))\n",
    "for i in range(10):\n",
    "    img = cifar10[0][0][i]\n",
    "    k[i].imshow(img,  aspect=\"auto\")\n",
    "    k[i].set_xlim([0, 32])\n",
    "    k[i].set_axis_off()\n",
    "plt.show()"
   ]
  },
  {
   "cell_type": "markdown",
   "metadata": {},
   "source": [
    "Dalam buku ini, dataset CIFAR-10 akan banyak digunakan untuk pelatihan beberapa CNN arsitektur yang dibahas.\n",
    "Selain CNN, kita juga akan membahas arsitektur deep learning secara umum, seperti Deep Belief Network (DBN) dan aplikasinya pada Multi-Layer Perceptron (MLP) dengan banyak lapis."
   ]
  },
  {
   "cell_type": "markdown",
   "metadata": {},
   "source": [
    "### 1.3.3 MNIST Dataset\n",
    "\n",
    "Seperti halnya CIFAR dataset, MNIST dataset juga digunakan untuk klasifikasi citra, hanya saja untuk permasalahan yang lebih sederhana yaitu pengenalan tulisan tangan manusian untuk angka 0-9.\n",
    "MNIST dataset merupakan dataset yang sudah cukup tua, yaitu diperkenalkan pada sekitar akhir tahun 1997 oleh Lecun et al.\n",
    "MNIST dataset terdiri 60,000 data untuk data pelatihan dan 10,000 data untuk data uji.\n",
    "Setiap data mempunyai resolusi citra sebesar 28x28 dengan ruang warna grayscale.\n",
    "Berikut merupakan kode untuk memuat MNIST dataset."
   ]
  },
  {
   "cell_type": "code",
   "execution_count": 54,
   "metadata": {},
   "outputs": [
    {
     "name": "stdout",
     "output_type": "stream",
     "text": [
      "Downloading data from https://s3.amazonaws.com/img-datasets/mnist.npz\n",
      "11493376/11490434 [==============================] - 5s 0us/step\n"
     ]
    }
   ],
   "source": [
    "mnist = keras.datasets.mnist.load_data()"
   ]
  },
  {
   "cell_type": "markdown",
   "metadata": {},
   "source": [
    "Karena eksistensi MNIST dataset sudah cukup lama, maka telah banyak hasil yang dipublikasikan dengan dataset tersebut dan metode yang diajukan sudah mempunyai akurasi lebih dari 99.0%. Meskipun akurasi yang dihasilkan sudah cukup tinggi dapat telah mendapatkan user acceptable test tetapi MNIST dataset tetap relevan untuk digunakan sebagai uji coba klasifier baru.\n",
    "Berikut merupakan 10 citra awal dari MNIST dataset."
   ]
  },
  {
   "cell_type": "code",
   "execution_count": 59,
   "metadata": {},
   "outputs": [
    {
     "data": {
      "image/png": "[encoded data removed]",
      "text/plain": [
       "<matplotlib.figure.Figure at 0x2adcbf73ef0>"
      ]
     },
     "metadata": {},
     "output_type": "display_data"
    }
   ],
   "source": [
    "from matplotlib import pyplot as plt\n",
    "\n",
    "f, k = plt.subplots(1, 10, sharey=True,figsize=(18,2))\n",
    "plt.gray()\n",
    "for i in range(10):\n",
    "    img = mnist[0][0][i]\n",
    "    k[i].imshow(img,  aspect=\"auto\")\n",
    "    k[i].set_xlim([0, 32])\n",
    "    k[i].set_axis_off()\n",
    "plt.show()"
   ]
  },
  {
   "cell_type": "markdown",
   "metadata": {},
   "source": [
    "### 1.3.4 Fashion MNIST Dataset\n",
    "\n",
    "To do"
   ]
  },
  {
   "cell_type": "code",
   "execution_count": 60,
   "metadata": {},
   "outputs": [
    {
     "name": "stdout",
     "output_type": "stream",
     "text": [
      "Downloading data from http://fashion-mnist.s3-website.eu-central-1.amazonaws.com/train-labels-idx1-ubyte.gz\n",
      "32768/29515 [=================================] - 1s 26us/step\n",
      "Downloading data from http://fashion-mnist.s3-website.eu-central-1.amazonaws.com/train-images-idx3-ubyte.gz\n",
      "26427392/26421880 [==============================] - 14s 1us/step\n",
      "Downloading data from http://fashion-mnist.s3-website.eu-central-1.amazonaws.com/t10k-labels-idx1-ubyte.gz\n",
      "8192/5148 [===============================================] - 0s 0us/step\n",
      "Downloading data from http://fashion-mnist.s3-website.eu-central-1.amazonaws.com/t10k-images-idx3-ubyte.gz\n",
      "4423680/4422102 [==============================] - 5s 1us/step\n"
     ]
    }
   ],
   "source": [
    "fmnist = keras.datasets.fashion_mnist.load_data()"
   ]
  },
  {
   "cell_type": "code",
   "execution_count": 61,
   "metadata": {},
   "outputs": [
    {
     "data": {
      "image/png": "[encoded data removed]",
      "text/plain": [
       "<matplotlib.figure.Figure at 0x2add6e43518>"
      ]
     },
     "metadata": {},
     "output_type": "display_data"
    }
   ],
   "source": [
    "from matplotlib import pyplot as plt\n",
    "\n",
    "f, k = plt.subplots(1, 10, sharey=True,figsize=(18,2))\n",
    "plt.gray()\n",
    "for i in range(10):\n",
    "    img = fmnist[0][0][i]\n",
    "    k[i].imshow(img,  aspect=\"auto\")\n",
    "    k[i].set_xlim([0, 32])\n",
    "    k[i].set_axis_off()\n",
    "plt.show()"
   ]
  },
  {
   "cell_type": "markdown",
   "metadata": {},
   "source": [
    "### 1.3.5 IMDB Movie Review Dataset\n",
    "\n",
    "To do"
   ]
  },
  {
   "cell_type": "markdown",
   "metadata": {},
   "source": [
    "### 1.3.6 Reuters Topic Classification Dataset\n",
    "\n",
    "To do"
   ]
  }
 ],
 "metadata": {
  "kernelspec": {
   "display_name": "Python 3",
   "language": "python",
   "name": "python3"
  },
  "language_info": {
   "codemirror_mode": {
    "name": "ipython",
    "version": 3
   },
   "file_extension": ".py",
   "mimetype": "text/x-python",
   "name": "python",
   "nbconvert_exporter": "python",
   "pygments_lexer": "ipython3",
   "version": "3.6.3"
  }
 },
 "nbformat": 4,
 "nbformat_minor": 2
}
